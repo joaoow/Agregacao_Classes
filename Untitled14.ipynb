{
  "nbformat": 4,
  "nbformat_minor": 0,
  "metadata": {
    "colab": {
      "provenance": []
    },
    "kernelspec": {
      "name": "python3",
      "display_name": "Python 3"
    },
    "language_info": {
      "name": "python"
    }
  },
  "cells": [
    {
      "cell_type": "code",
      "execution_count": 1,
      "metadata": {
        "id": "FnaMvWMeytDS"
      },
      "outputs": [],
      "source": [
        "#Classe Sálario\n",
        "class Salario:\n",
        "   def __init__(self, base, bonus):\n",
        "      self.base = base\n",
        "      self.bonus = bonus\n",
        "\n",
        "   def salario_anual(self):\n",
        "     return (self.base*2)+self.bonus"
      ]
    },
    {
      "cell_type": "code",
      "source": [
        "#Classe Empregado\n",
        "class Empregado:\n",
        "   def __init__(self, nome, idade, salario):\n",
        "       self.nome = nome\n",
        "       self.idade = idade\n",
        "       self.salario_agregado = salario\n",
        "\n",
        "   def salario_total(self):\n",
        "     return self.salario_agregado.salario_anual()\n",
        ""
      ],
      "metadata": {
        "id": "Nj9GhJQ44hqx"
      },
      "execution_count": 2,
      "outputs": []
    },
    {
      "cell_type": "code",
      "source": [
        "salario = Salario(10000, 700)\n",
        "emp = Empregado('joao', 46, salario)\n",
        "print(emp.salario_total())"
      ],
      "metadata": {
        "colab": {
          "base_uri": "https://localhost:8080/"
        },
        "id": "ZGRMlzGQ5e-4",
        "outputId": "8bd16b2c-e01f-4d82-ba39-ad8a9a00c962"
      },
      "execution_count": 3,
      "outputs": [
        {
          "output_type": "stream",
          "name": "stdout",
          "text": [
            "20700\n"
          ]
        }
      ]
    }
  ]
}